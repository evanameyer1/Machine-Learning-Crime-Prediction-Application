{
 "cells": [
  {
   "cell_type": "markdown",
   "metadata": {},
   "source": [
    "### Using the Dickey-Fuller Method to Verify Seasonality, Stationanarity, and Constancy of Our Datasets Before the Model"
   ]
  },
  {
   "cell_type": "code",
   "execution_count": 1,
   "metadata": {},
   "outputs": [
    {
     "name": "stderr",
     "output_type": "stream",
     "text": [
      "/Users/evanmeyer/Library/Python/3.9/lib/python/site-packages/urllib3/__init__.py:34: NotOpenSSLWarning: urllib3 v2.0 only supports OpenSSL 1.1.1+, currently the 'ssl' module is compiled with 'LibreSSL 2.8.3'. See: https://github.com/urllib3/urllib3/issues/3020\n",
      "  warnings.warn(\n"
     ]
    }
   ],
   "source": [
    "import matplotlib.pyplot as plt\n",
    "import pandas as pd\n",
    "from statsmodels.tsa.stattools import adfuller\n",
    "from statsmodels.tsa.seasonal import seasonal_decompose "
   ]
  },
  {
   "cell_type": "code",
   "execution_count": 2,
   "metadata": {},
   "outputs": [],
   "source": [
    "# load the dataset\n",
    "df = pd.read_csv('../datasets/scoring/final_aggregation.csv', parse_dates=['date'])"
   ]
  },
  {
   "cell_type": "code",
   "execution_count": 3,
   "metadata": {},
   "outputs": [],
   "source": [
    "test_df = df[(df.date <= pd.to_datetime('2016-12-31')) & (df.date >= pd.to_datetime('2016-01-01'))]\n",
    "train_df = df[(df.date <= pd.to_datetime('2019-01-01')) & (df.date > pd.to_datetime('2016-12-31'))]"
   ]
  },
  {
   "cell_type": "code",
   "execution_count": 4,
   "metadata": {},
   "outputs": [
    {
     "name": "stderr",
     "output_type": "stream",
     "text": [
      "/var/folders/5d/fdmfhfr55d5f2r62ltcl50vh0000gn/T/ipykernel_32902/1154098784.py:1: SettingWithCopyWarning: \n",
      "A value is trying to be set on a copy of a slice from a DataFrame\n",
      "\n",
      "See the caveats in the documentation: https://pandas.pydata.org/pandas-docs/stable/user_guide/indexing.html#returning-a-view-versus-a-copy\n",
      "  test_df.fillna(0, inplace=True)\n",
      "/var/folders/5d/fdmfhfr55d5f2r62ltcl50vh0000gn/T/ipykernel_32902/1154098784.py:2: SettingWithCopyWarning: \n",
      "A value is trying to be set on a copy of a slice from a DataFrame\n",
      "\n",
      "See the caveats in the documentation: https://pandas.pydata.org/pandas-docs/stable/user_guide/indexing.html#returning-a-view-versus-a-copy\n",
      "  train_df.fillna(0, inplace=True)\n"
     ]
    }
   ],
   "source": [
    "test_df.fillna(0, inplace=True)\n",
    "train_df.fillna(0, inplace=True)"
   ]
  },
  {
   "cell_type": "code",
   "execution_count": 5,
   "metadata": {},
   "outputs": [],
   "source": [
    "test_df.set_index('date', inplace=True)\n",
    "train_df.set_index('date', inplace=True)"
   ]
  },
  {
   "cell_type": "code",
   "execution_count": 6,
   "metadata": {},
   "outputs": [],
   "source": [
    "def adf_test(df, significance_level=0.05):\n",
    "    results = []\n",
    "    successes = []\n",
    "    fails = []\n",
    "    max_chunk_size = len(df)\n",
    "    for col in df.columns:\n",
    "        chunk_df = df[[col]]\n",
    "        \n",
    "        print(f'Starting search for ideal chunk size for column \"{col}\"...')\n",
    "\n",
    "        current_chunk_size = max_chunk_size\n",
    "\n",
    "        while current_chunk_size > 0:\n",
    "            # Create a chunk DataFrame using .loc to select rows by index\n",
    "            chunk_df = df.loc[df.index[:current_chunk_size], [col]]\n",
    "\n",
    "            # Perform the ADF test on the chunk\n",
    "            try:\n",
    "                adf_result = adfuller(chunk_df, autolag='AIC')\n",
    "            except MemoryError:\n",
    "                # If a MemoryError occurs, decrease the chunk size by 10%\n",
    "                current_chunk_size = max(current_chunk_size - max_chunk_size // 10, 0)\n",
    "                print(f'Memory limit exceeded. Reducing chunk size to {current_chunk_size} rows...')\n",
    "                continue\n",
    "\n",
    "        print(f'Ideal chunk size for column \"{col}\": {current_chunk_size} rows')\n",
    "\n",
    "        results.append({\n",
    "                        'Current Chunk Size': current_chunk_size,\n",
    "                        'Start Date': chunk_df.index[0],\n",
    "                        'End Date': chunk_df.index[-1],\n",
    "                        'ADF Statistic': adf_result[0],\n",
    "                        'P-Value': adf_result[1],\n",
    "                        'Significance Level': significance_level,\n",
    "                        'Stationary': adf_result[1] < significance_level,\n",
    "                    })\n",
    "        \n",
    "        #check results to verify whether or not the data is stationary\n",
    "        result = F'{col} column scored a P-value of {adf_result[1]} at a significance level of {significance_level}'\n",
    "        if adf_result[1] <= significance_level:\n",
    "            successes.append(result)\n",
    "        else:\n",
    "            fails.append(result)\n",
    "        \n",
    "        print(f'ADF test for column \"{col}\" completed.')\n",
    "    \n",
    "    results_df = pd.DataFrame(results)\n",
    "\n",
    "    return results_df, successes, fails"
   ]
  },
  {
   "cell_type": "code",
   "execution_count": 7,
   "metadata": {},
   "outputs": [],
   "source": [
    "#adf, pvalue, usedlag_, nobs_, critical_values_, icbest_ = adfuller(test_df[['bike_rides']])\n",
    "#print(\"pvalue = \", pvalue, \" if above 0.05, data is not stationary\")"
   ]
  },
  {
   "cell_type": "code",
   "execution_count": 8,
   "metadata": {},
   "outputs": [
    {
     "name": "stdout",
     "output_type": "stream",
     "text": [
      "Starting search for ideal chunk size for column \"hour\"...\n"
     ]
    }
   ],
   "source": [
    "test_adf_results, test_adf_successes, test_adf_fails = adf_test(test_df)\n",
    "print(f'Successes: {len(test_adf_successes)}, Fails: {len(test_adf_fails)}')\n",
    "test_adf_results"
   ]
  },
  {
   "cell_type": "code",
   "execution_count": null,
   "metadata": {},
   "outputs": [],
   "source": [
    "train_adf_results, train_adf_successes, train_adf_fails = adf_test(train_df)\n",
    "print(f'Successes: {len(train_adf_successes)}, Fails: {len(train_adf_fails)}')\n",
    "train_adf_results"
   ]
  },
  {
   "cell_type": "code",
   "execution_count": null,
   "metadata": {},
   "outputs": [],
   "source": [
    "plt.style.use('dark_background')\n",
    "\n",
    "def plot_seasonality(df):\n",
    "\n",
    "    for col in df.columns:\n",
    "\n",
    "        decomposed = seasonal_decompose(df[col],  \n",
    "                                    model ='additive')\n",
    "\n",
    "        trend = decomposed.trend\n",
    "        seasonal = decomposed.seasonal\n",
    "        residual = decomposed.resid\n",
    "\n",
    "        plt.figure(figsize=(12,8))\n",
    "        plt.subplot(411)\n",
    "        plt.plot(df, label='Original', color='yellow')\n",
    "        plt.legend(loc='upper left')\n",
    "        plt.subplot(412)\n",
    "        plt.plot(trend, label='Trend', color='yellow')\n",
    "        plt.legend(loc='upper left')\n",
    "        plt.subplot(413)\n",
    "        plt.plot(seasonal, label='Seasonal', color='yellow')\n",
    "        plt.legend(loc='upper left')\n",
    "        plt.subplot(414)\n",
    "        plt.plot(residual, label='Residual', color='yellow')\n",
    "        plt.legend(loc='upper left')\n",
    "        plt.show()"
   ]
  },
  {
   "cell_type": "code",
   "execution_count": null,
   "metadata": {},
   "outputs": [],
   "source": [
    "plot_seasonality(test_df)"
   ]
  },
  {
   "cell_type": "code",
   "execution_count": null,
   "metadata": {},
   "outputs": [],
   "source": [
    "plot_seasonality(train_df)"
   ]
  }
 ],
 "metadata": {
  "kernelspec": {
   "display_name": "Python 3",
   "language": "python",
   "name": "python3"
  },
  "language_info": {
   "codemirror_mode": {
    "name": "ipython",
    "version": 3
   },
   "file_extension": ".py",
   "mimetype": "text/x-python",
   "name": "python",
   "nbconvert_exporter": "python",
   "pygments_lexer": "ipython3",
   "version": "3.9.6"
  }
 },
 "nbformat": 4,
 "nbformat_minor": 2
}
