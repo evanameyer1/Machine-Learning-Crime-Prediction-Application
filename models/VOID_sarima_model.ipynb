{
 "cells": [
  {
   "cell_type": "markdown",
   "metadata": {},
   "source": [
    "### Using the Dickey-Fuller Method to Verify Seasonality, Stationanarity, and Constancy of Our Datasets Before the Model"
   ]
  },
  {
   "cell_type": "code",
   "execution_count": 56,
   "metadata": {},
   "outputs": [],
   "source": [
    "from datetime import datetime\n",
    "import pandas as pd\n",
    "from statsmodels.tsa.stattools import adfuller\n",
    "import pmdarima as pm\n",
    "from statsmodels.tsa.arima_model import ARIMA\n",
    "from statsmodels.tsa.statespace.sarimax import SARIMAX\n",
    "import matplotlib.pyplot as plt\n",
    "import numpy as np\n",
    "from statsmodels.graphics.tsaplots import plot_acf, plot_pacf\n",
    "import statsmodels.api as sm"
   ]
  },
  {
   "cell_type": "code",
   "execution_count": 2,
   "metadata": {},
   "outputs": [],
   "source": [
    "# load the dataset\n",
    "df = pd.read_csv('../datasets/scoring/final_aggregation.csv', parse_dates=['date'])"
   ]
  },
  {
   "cell_type": "code",
   "execution_count": 3,
   "metadata": {},
   "outputs": [],
   "source": [
    "test_df = df[(df.date <= pd.to_datetime('2016-12-31')) & (df.date >= pd.to_datetime('2016-01-01'))]\n",
    "train_df = df[(df.date <= pd.to_datetime('2019-01-01')) & (df.date > pd.to_datetime('2016-12-31'))]"
   ]
  },
  {
   "cell_type": "code",
   "execution_count": 4,
   "metadata": {},
   "outputs": [
    {
     "name": "stderr",
     "output_type": "stream",
     "text": [
      "/var/folders/5d/fdmfhfr55d5f2r62ltcl50vh0000gn/T/ipykernel_41825/1154098784.py:1: SettingWithCopyWarning: \n",
      "A value is trying to be set on a copy of a slice from a DataFrame\n",
      "\n",
      "See the caveats in the documentation: https://pandas.pydata.org/pandas-docs/stable/user_guide/indexing.html#returning-a-view-versus-a-copy\n",
      "  test_df.fillna(0, inplace=True)\n",
      "/var/folders/5d/fdmfhfr55d5f2r62ltcl50vh0000gn/T/ipykernel_41825/1154098784.py:2: SettingWithCopyWarning: \n",
      "A value is trying to be set on a copy of a slice from a DataFrame\n",
      "\n",
      "See the caveats in the documentation: https://pandas.pydata.org/pandas-docs/stable/user_guide/indexing.html#returning-a-view-versus-a-copy\n",
      "  train_df.fillna(0, inplace=True)\n"
     ]
    }
   ],
   "source": [
    "test_df.fillna(0, inplace=True)\n",
    "train_df.fillna(0, inplace=True)"
   ]
  },
  {
   "cell_type": "code",
   "execution_count": 5,
   "metadata": {},
   "outputs": [],
   "source": [
    "test_df.set_index('date', inplace=True)\n",
    "train_df.set_index('date', inplace=True)"
   ]
  },
  {
   "cell_type": "code",
   "execution_count": 6,
   "metadata": {},
   "outputs": [],
   "source": [
    "test_df.to_csv('../datasets/training/SARIMA/test_df.csv', index=False)\n",
    "train_df.to_csv('../datasets/training/SARIMA/train_df.csv', index=False)"
   ]
  },
  {
   "cell_type": "code",
   "execution_count": 71,
   "metadata": {},
   "outputs": [],
   "source": [
    "def dickey_fuller_test(df, exempt_cols=['date'], sig_level=0.05):\n",
    "    \"\"\"\n",
    "    Perform Dickey-Fuller test for stationarity on all columns in a DataFrame.\n",
    "\n",
    "    Parameters\n",
    "    ----------\n",
    "    df : DataFrame\n",
    "    Input time series data \n",
    "    exempt_cols : list, default ['date']\n",
    "    Columns to skip testing\n",
    "    sig_level : float, default 0.05 \n",
    "    Significance level for testing\n",
    "\n",
    "    Returns\n",
    "    -------\n",
    "    results : dict\n",
    "    Dictionary containing test results for each column \n",
    "    \"\"\"\n",
    "    # Dictionary to store results\n",
    "    results = {} \n",
    "\n",
    "    # Loop through columns\n",
    "    for col in df.columns:\n",
    "\n",
    "        # Skip exempt columns\n",
    "        if col in exempt_cols:\n",
    "            continue\n",
    "\n",
    "        # Print progress  \n",
    "        print(f\"{datetime.now()}: Testing {col} for stationarity...\")\n",
    "\n",
    "        try:\n",
    "            # Perform ADF test\n",
    "            adf_result = adfuller(df[col])\n",
    "            \n",
    "        except:\n",
    "            # Handle errors\n",
    "            print(f\"Error testing {col}. Skipping.\")\n",
    "            continue\n",
    "\n",
    "        # Store results    \n",
    "        results[col] = {\n",
    "            'adf_stat': adf_result[0],\n",
    "            'pvalue': adf_result[1],\n",
    "            'sig_level': sig_level \n",
    "        }\n",
    "\n",
    "        # Print conclusions\n",
    "        pvalue = results[col]['pvalue']\n",
    "        sig = results[col]['sig_level']\n",
    "            \n",
    "        stationary = pvalue < sig  \n",
    "        print(f\"{col} stationary: {stationary} (p-value: {pvalue:.3f})\")\n",
    "        \n",
    "    return results"
   ]
  },
  {
   "cell_type": "code",
   "execution_count": 72,
   "metadata": {},
   "outputs": [
    {
     "name": "stdout",
     "output_type": "stream",
     "text": [
      "2023-10-24 17:35:05.796478: Testing non-violent for stationarity...\n",
      "non-violent stationary: True (p-value: 0.000)\n",
      "2023-10-24 17:42:06.290312: Testing violent for stationarity...\n",
      "violent stationary: True (p-value: 0.000)\n",
      "2023-10-24 17:49:00.310958: Testing train_rides for stationarity...\n",
      "train_rides stationary: True (p-value: 0.000)\n",
      "2023-10-24 17:55:53.402942: Testing bike_rides for stationarity...\n",
      "bike_rides stationary: True (p-value: 0.000)\n",
      "2023-10-24 18:02:50.953673: Testing lighting for stationarity...\n",
      "lighting stationary: False (p-value: 0.158)\n",
      "2023-10-24 18:09:39.281249: Testing vacant_buildings for stationarity...\n",
      "vacant_buildings stationary: True (p-value: 0.000)\n"
     ]
    },
    {
     "data": {
      "text/plain": [
       "{'non-violent': {'adf_stat': -35.84644081359766,\n",
       "  'pvalue': 0.0,\n",
       "  'sig_level': 0.05},\n",
       " 'violent': {'adf_stat': -39.03089699079734, 'pvalue': 0.0, 'sig_level': 0.05},\n",
       " 'train_rides': {'adf_stat': -18.2608600940507,\n",
       "  'pvalue': 2.3312991666018573e-30,\n",
       "  'sig_level': 0.05},\n",
       " 'bike_rides': {'adf_stat': -26.917965126201302,\n",
       "  'pvalue': 0.0,\n",
       "  'sig_level': 0.05},\n",
       " 'lighting': {'adf_stat': -2.3449276970859816,\n",
       "  'pvalue': 0.1578868690956337,\n",
       "  'sig_level': 0.05},\n",
       " 'vacant_buildings': {'adf_stat': -15.769658866629179,\n",
       "  'pvalue': 1.165106212455214e-28,\n",
       "  'sig_level': 0.05}}"
      ]
     },
     "execution_count": 72,
     "metadata": {},
     "output_type": "execute_result"
    }
   ],
   "source": [
    "exempt_cols = ['date', 'hour', 'area', 'cta_stations', 'police_stations', 'bus_stations', 'unemployment', \n",
    "            'per_capita_income', 'no_hs_dip', 'gov_depend', 'crowded_housing', 'below_pov', 'bike_stations']\n",
    "\n",
    "adf_results = dickey_fuller_test(test_df, exempt_cols)\n",
    "adf_results"
   ]
  },
  {
   "cell_type": "code",
   "execution_count": null,
   "metadata": {},
   "outputs": [],
   "source": [
    "def plot_acf_pacf(df, exempt_cols):\n",
    "\n",
    "    \"\"\"Generate ACF and PACF plots for each column in a DataFrame\"\"\"\n",
    "    \n",
    "    # Loop through columns\n",
    "    for col in df.columns:\n",
    "\n",
    "        if col not in exempt_cols:\n",
    "            # Create ACF plot\n",
    "            plt.subplot(211) \n",
    "            plot_acf(df[col], lags=20)\n",
    "            plt.title(f\"ACF - {col}\")\n",
    "\n",
    "            # Create PACF plot        \n",
    "            plt.subplot(212)\n",
    "            plot_pacf(df[col], lags=20)\n",
    "            plt.title(f\"PACF - {col}\")\n",
    "\n",
    "            # Show plot\n",
    "            plt.tight_layout()\n",
    "            plt.show()"
   ]
  },
  {
   "cell_type": "code",
   "execution_count": null,
   "metadata": {},
   "outputs": [],
   "source": [
    "plot_acf_pacf(test_df, exempt_cols)"
   ]
  },
  {
   "cell_type": "code",
   "execution_count": 69,
   "metadata": {},
   "outputs": [],
   "source": [
    "def find_auto_arima(series, adf_result, sig_val=0.05, max_p=3, max_q=3, max_d=1, stepwise=True):\n",
    "    \"\"\"\n",
    "    Search for optimal ARIMA parameters for a time series.\n",
    "\n",
    "    Parameters\n",
    "    ----------\n",
    "    series : pd.Series\n",
    "    The time series data\n",
    "    max_p, max_q : int\n",
    "    Maximum p and q values to check \n",
    "    max_d : int\n",
    "    Maximum number of differences allowed \n",
    "    stepwise : bool\n",
    "    Whether to use stepwise model selection \n",
    "    \"\"\"\n",
    "\n",
    "    max_d = 0 if adf_result < sig_val else 1\n",
    "\n",
    "    print(\"Fitting models...\")\n",
    "    mods = pm.auto_arima(series, start_p=0, start_q=0, max_p=max_p, max_q=max_q,\n",
    "                        max_d=max_d, stepwise=stepwise, suppress_warnings=True)\n",
    "\n",
    "    print(\"Selecting best model...\")\n",
    "    best_mod = mods.apply(lambda x: x.aic()).idxmin()   \n",
    "\n",
    "    print(\"Best model found: {}\".format(best_mod.order))\n",
    "    return best_mod.order"
   ]
  },
  {
   "cell_type": "code",
   "execution_count": null,
   "metadata": {},
   "outputs": [],
   "source": [
    "find_auto_arima(test_df['violent'], adf_results['violent']['pvalue'], adf_results['violent']['sig_level'])"
   ]
  },
  {
   "cell_type": "code",
   "execution_count": 9,
   "metadata": {},
   "outputs": [],
   "source": [
    "def ARIMA_model(df, col, p, d, q, P, D, Q, stationary_state, m=24):\n",
    "    \"\"\"\n",
    "    Fit a SARIMA or ARIMA model based on the stationarity state.\n",
    "\n",
    "    Parameters:\n",
    "    - df: DataFrame containing the time series data.\n",
    "    - col: Name of the column to model.\n",
    "    - p, d, q: Parameters for the ARIMA component.\n",
    "    - P, D, Q: Parameters for the seasonal component (SARIMA).\n",
    "    - seasonal_state: True if data is stationary, False otherwise.\n",
    "    - m: Seasonal period for SARIMA model.\n",
    "\n",
    "    Returns:\n",
    "    - results: Fitted SARIMA or ARIMA model.\n",
    "    \"\"\"\n",
    "    if stationary_state:\n",
    "        print(f'{datetime.now()}: Data for column \"{col}\" is stationary. Fitting SARIMA model.')\n",
    "        model = SARIMAX(df[col],\n",
    "                        order=(p, d, q),\n",
    "                        seasonal_order=(P, D, Q, m))\n",
    "    else:\n",
    "        print(f'{datetime.now()}: Data for column \"{col}\" is not stationary. Fitting ARIMA model instead.')\n",
    "        model = ARIMA(df[col], order=(p, d, q))\n",
    "\n",
    "    results = model.fit()\n",
    "    \n",
    "    return results"
   ]
  }
 ],
 "metadata": {
  "kernelspec": {
   "display_name": "Python 3",
   "language": "python",
   "name": "python3"
  },
  "language_info": {
   "codemirror_mode": {
    "name": "ipython",
    "version": 3
   },
   "file_extension": ".py",
   "mimetype": "text/x-python",
   "name": "python",
   "nbconvert_exporter": "python",
   "pygments_lexer": "ipython3",
   "version": "3.9.6"
  }
 },
 "nbformat": 4,
 "nbformat_minor": 2
}
