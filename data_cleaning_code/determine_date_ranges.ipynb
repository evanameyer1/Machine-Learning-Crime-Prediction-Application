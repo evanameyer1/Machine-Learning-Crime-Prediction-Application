{
 "cells": [
  {
   "cell_type": "code",
   "execution_count": 1,
   "metadata": {},
   "outputs": [],
   "source": [
    "import pandas as pd\n",
    "import datetime"
   ]
  },
  {
   "cell_type": "code",
   "execution_count": 2,
   "metadata": {},
   "outputs": [],
   "source": [
    "clean_crime = pd.read_csv('../clean_datasets/clean_crime.csv')\n",
    "clean_ridership = pd.read_csv('../clean_datasets/clean_ridership.csv')\n",
    "clean_lighting = pd.read_csv('../clean_datasets/clean_lighting.csv')\n",
    "clean_divvy_trips = pd.read_csv('../clean_datasets/clean_divvy_trips.csv')\n",
    "clean_vacant_buildings = pd.read_csv('../clean_datasets/clean_vacant_buildings.csv')"
   ]
  },
  {
   "cell_type": "code",
   "execution_count": 3,
   "metadata": {},
   "outputs": [],
   "source": [
    "tables = [clean_crime, clean_ridership, clean_lighting, clean_divvy_trips, clean_vacant_buildings]"
   ]
  },
  {
   "cell_type": "code",
   "execution_count": 4,
   "metadata": {},
   "outputs": [
    {
     "name": "stdout",
     "output_type": "stream",
     "text": [
      "Min: 01/01/2001 01:00:00 AM | Max: 12/31/2022 12:52:00 PM\n",
      "Min: 2016-01-01 | Max: 2022-10-31\n",
      "Min: 2010-07-06 | Max: 2019-02-12\n",
      "Min: 2013-06-27 01:06:00 | Max: 2019-12-31 23:57:17\n",
      "Min: 2008-01-18 | Max: 2023-10-19\n"
     ]
    }
   ],
   "source": [
    "for table in tables:\n",
    "    print(f'Min: {table.date.min()} | Max: {table.date.max()}')"
   ]
  },
  {
   "cell_type": "code",
   "execution_count": 2,
   "metadata": {},
   "outputs": [
    {
     "data": {
      "text/plain": [
       "datetime.timedelta(days=1460)"
      ]
     },
     "execution_count": 2,
     "metadata": {},
     "output_type": "execute_result"
    }
   ],
   "source": [
    "datetime.date(2019, 12, 31) - datetime.date(2016, 1, 1)"
   ]
  },
  {
   "cell_type": "code",
   "execution_count": null,
   "metadata": {},
   "outputs": [],
   "source": []
  }
 ],
 "metadata": {
  "kernelspec": {
   "display_name": "Python 3",
   "language": "python",
   "name": "python3"
  },
  "language_info": {
   "codemirror_mode": {
    "name": "ipython",
    "version": 3
   },
   "file_extension": ".py",
   "mimetype": "text/x-python",
   "name": "python",
   "nbconvert_exporter": "python",
   "pygments_lexer": "ipython3",
   "version": "3.9.6"
  }
 },
 "nbformat": 4,
 "nbformat_minor": 2
}
